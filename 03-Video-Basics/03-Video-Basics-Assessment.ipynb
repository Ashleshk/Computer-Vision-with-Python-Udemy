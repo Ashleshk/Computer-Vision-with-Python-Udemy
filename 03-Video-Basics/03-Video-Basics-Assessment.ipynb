{
 "cells": [
  {
   "cell_type": "markdown",
   "metadata": {},
   "source": [
    "<a href=\"https://www.pieriandata.com\"><img src=\"../DATA/Logo.jpg\"></a>\n",
    "\n",
    "<em text-align:center>Copyright Pierian Data Inc.</em>"
   ]
  },
  {
   "cell_type": "markdown",
   "metadata": {},
   "source": [
    "# Video Basics Assessment \n",
    "\n",
    "* **Note: This assessment is quite hard! Feel free to treat it as a code along and jump to the solutions** *\n",
    "\n",
    "## Project Task\n",
    "\n",
    "**You only have one task here. Create a program that reads in a live stream from a camera on your computer (or if you don't have a camera, just open up a video file). Then whenever you click the left mouse button down, create a blue circle around where you've clicked. Check out the video for an example of what the final project should look like**"
   ]
  },
  {
   "cell_type": "markdown",
   "metadata": {},
   "source": [
    "**Guide**\n",
    "\n",
    "* Create a draw_circle function for the callback function\n",
    "* Use two events cv2.EVENT_LBUTTONDOWN and cv2.EVENT_LBUTTONUP\n",
    "* Use a boolean variable to keep track if the mouse has been clicked up and down based on the events above\n",
    "* Use a tuple to keep track of the x and y where the mouse was clicked.\n",
    "* You should be able to then draw a circle on the frame based on the x,y coordinates from the Event \n",
    "\n",
    "Check out the skeleton guide below:"
   ]
  },
  {
   "cell_type": "code",
   "execution_count": 1,
   "metadata": {},
   "outputs": [
    {
     "ename": "SyntaxError",
     "evalue": "unexpected EOF while parsing (<ipython-input-1-a2239dde23f6>, line 46)",
     "output_type": "error",
     "traceback": [
      "\u001b[1;36m  File \u001b[1;32m\"<ipython-input-1-a2239dde23f6>\"\u001b[1;36m, line \u001b[1;32m46\u001b[0m\n\u001b[1;33m    # When everything is done, release the capture\u001b[0m\n\u001b[1;37m                                                  ^\u001b[0m\n\u001b[1;31mSyntaxError\u001b[0m\u001b[1;31m:\u001b[0m unexpected EOF while parsing\n"
     ]
    }
   ],
   "source": [
    "# Create a function based on a CV2 Event (Left button click)\n",
    "\n",
    "# mouse callback function\n",
    "def draw_circle(event,x,y,flags,param):\n",
    "\n",
    "    global center,clicked\n",
    "\n",
    "    # get mouse click on down and track center\n",
    "    \n",
    "    \n",
    "    # Use boolean variable to track if the mouse has been released\n",
    "   \n",
    "\n",
    "        \n",
    "# Haven't drawn anything yet!\n",
    "center = (0,0)\n",
    "clicked = False\n",
    "\n",
    "\n",
    "# Capture Video\n",
    "\n",
    "\n",
    "# Create a named window for connections\n",
    "\n",
    "\n",
    "# Bind draw_rectangle function to mouse cliks\n",
    "\n",
    "\n",
    "\n",
    "while True:\n",
    "    # Capture frame-by-frame\n",
    " \n",
    "\n",
    "    # Use if statement to see if clicked is true\n",
    "   \n",
    "        # Draw circle on frame\n",
    "        \n",
    "        \n",
    "    # Display the resulting frame\n",
    "    \n",
    "\n",
    "    # This command let's us quit with the \"q\" button on a keyboard.\n",
    "    # Simply pressing X on the window won't work!\n",
    "   \n",
    "\n",
    "# When everything is done, release the capture\n"
   ]
  },
  {
   "cell_type": "code",
   "execution_count": null,
   "metadata": {},
   "outputs": [],
   "source": []
  },
  {
   "cell_type": "code",
   "execution_count": null,
   "metadata": {},
   "outputs": [],
   "source": []
  }
 ],
 "metadata": {
  "kernelspec": {
   "display_name": "Python 3",
   "language": "python",
   "name": "python3"
  },
  "language_info": {
   "codemirror_mode": {
    "name": "ipython",
    "version": 3
   },
   "file_extension": ".py",
   "mimetype": "text/x-python",
   "name": "python",
   "nbconvert_exporter": "python",
   "pygments_lexer": "ipython3",
   "version": "3.6.6"
  }
 },
 "nbformat": 4,
 "nbformat_minor": 2
}
